{
 "cells": [
  {
   "cell_type": "code",
   "execution_count": 23,
   "id": "ba9f365e",
   "metadata": {},
   "outputs": [
    {
     "data": {
      "text/plain": [
       "<Response [504]>"
      ]
     },
     "execution_count": 23,
     "metadata": {},
     "output_type": "execute_result"
    }
   ],
   "source": [
    "import requests\n",
    "\n",
    "url = \"https://audio.dubverse.ai/api/tts\"\n",
    "# मैं तुम्हारे बिना अधूरी हूँ। मैं तुम्हारे साथ सोना चाहती हूँ—not सिर्फ जिस्म से, बल्कि रूह से जुड़ने के लिए। तुम्हारे बिना... मैं जैसे धीरे-धीरे मर रही हूँ\n",
    "payload = {\n",
    "    \"text\": \"\"\"\n",
    "    क्या है ना... ऑफिस से उस रात... काफी देर हो गयी थी. थकान थी... और सड़क भी अजीब सी सुनसान...\n",
    "\n",
    "    \"\"\",\n",
    "    \"speaker_no\": 1192,\n",
    "    \"config\": {\n",
    "        \"use_streaming_response\": False,\n",
    "        # \"sample_rate\": 22050,\n",
    "        # \"instructions\": \"<string>\"\n",
    "    },\n",
    "    # \"callback_url\": \"<string>\"\n",
    "}\n",
    "headers = {\n",
    "    \"X-API-KEY\": \"cnfCWZhUoraJuWucivbaoX8N01MawsIM\",\n",
    "    \"Content-Type\": \"application/json\"\n",
    "}\n",
    "\n",
    "response = requests.request(\"POST\", url, json=payload, headers=headers)\n",
    "response"
   ]
  },
  {
   "cell_type": "code",
   "execution_count": 20,
   "id": "3dd37c41",
   "metadata": {},
   "outputs": [],
   "source": [
    "with open('1199_story.wav', 'wb') as f:\n",
    "    f.write(response.content)\n"
   ]
  },
  {
   "cell_type": "code",
   "execution_count": null,
   "id": "54b6e800",
   "metadata": {},
   "outputs": [],
   "source": []
  }
 ],
 "metadata": {
  "kernelspec": {
   "display_name": "base",
   "language": "python",
   "name": "python3"
  },
  "language_info": {
   "codemirror_mode": {
    "name": "ipython",
    "version": 3
   },
   "file_extension": ".py",
   "mimetype": "text/x-python",
   "name": "python",
   "nbconvert_exporter": "python",
   "pygments_lexer": "ipython3",
   "version": "3.11.5"
  }
 },
 "nbformat": 4,
 "nbformat_minor": 5
}
