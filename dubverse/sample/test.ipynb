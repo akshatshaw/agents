{
 "cells": [
  {
   "cell_type": "code",
   "execution_count": 3,
   "id": "ba9f365e",
   "metadata": {},
   "outputs": [
    {
     "data": {
      "text/plain": [
       "<Response [200]>"
      ]
     },
     "execution_count": 3,
     "metadata": {},
     "output_type": "execute_result"
    }
   ],
   "source": [
    "import requests\n",
    "\n",
    "url = \"https://audio.dubverse.ai/api/tts\"\n",
    "# मैं तुम्हारे बिना अधूरी हूँ। मैं तुम्हारे साथ सोना चाहती हूँ—not सिर्फ जिस्म से, बल्कि रूह से जुड़ने के लिए। तुम्हारे बिना... मैं जैसे धीरे-धीरे मर रही हूँ\n",
    "payload = {\n",
    "    \"text\": \"\"\"\n",
    "   एक छोटे से गाँव में, रात के अंधेरे में एक अजीब सी चीख सुनाई दी। गाँव वाले डर गए, क्योंकि ये चीखें अक्सर गाँव के बाहर स्थित पुराने, परित्यक्त किले से आती थीं।\n",
    "\n",
    "एक युवा लड़की, राधि। एक रात, वह किले की ओर चल पड़ी, उसके दिल में डर और जिज्ञासा दोनों थे।\n",
    "    \"\"\",\n",
    "    \"speaker_no\": 1252,\n",
    "    \"config\": {\n",
    "        \"use_streaming_response\": False,\n",
    "        # \"sample_rate\": 22050,\n",
    "        # \"instructions\": \"<string>\"\n",
    "    },\n",
    "    # \"callback_url\": \"<string>\"\n",
    "}\n",
    "headers = {\n",
    "    \"X-API-KEY\": \"cnfCWZhUoraJuWucivbaoX8N01MawsIM\",\n",
    "    \"Content-Type\": \"application/json\"\n",
    "}\n",
    "\n",
    "response = requests.request(\"POST\", url, json=payload, headers=headers)\n",
    "response"
   ]
  },
  {
   "cell_type": "code",
   "execution_count": 4,
   "id": "3dd37c41",
   "metadata": {},
   "outputs": [],
   "source": [
    "import time\n",
    "with open(f\"{time.strftime('%Y-%m-%d_%H-%M-%S')}.mp3\", 'wb') as f:\n",
    "    f.write(response.content)\n"
   ]
  },
  {
   "cell_type": "code",
   "execution_count": 6,
   "id": "b7bd61d1",
   "metadata": {},
   "outputs": [],
   "source": [
    "# !pip install elevenlabs"
   ]
  },
  {
   "cell_type": "code",
   "execution_count": 9,
   "id": "68f2335d",
   "metadata": {},
   "outputs": [],
   "source": [
    "\n",
    "import os\n",
    "import uuid\n",
    "from elevenlabs import VoiceSettings\n",
    "from elevenlabs.client import ElevenLabs\n",
    "\n",
    "ELEVENLABS_API_KEY = os.getenv(\"ELEVENLABS_API_KEY\")\n",
    "client = ElevenLabs(\n",
    "    api_key=ELEVENLABS_API_KEY,\n",
    ")\n",
    "\n",
    "\n",
    "def text_to_speech_file(text: str) -> str:\n",
    "    # Calling the text_to_speech conversion API with detailed parameters\n",
    "    response = client.text_to_speech.convert(\n",
    "        voice_id=\"MF4J4IDTRo0AxOO4dpFR\", # Adam pre-made voice\n",
    "        output_format=\"mp3_22050_32\",\n",
    "        text=text,\n",
    "        model_id=\"eleven_turbo_v2_5\", # use the turbo model for low latency\n",
    "        # Optional voice settings that allow you to customize the output\n",
    "        voice_settings=VoiceSettings(\n",
    "            stability=0.0,\n",
    "            similarity_boost=1.0,\n",
    "            style=0.0,\n",
    "            use_speaker_boost=True,\n",
    "            speed=1.0,\n",
    "        ),\n",
    "    )\n",
    "\n",
    "    # uncomment the line below to play the audio back\n",
    "    # play(response)\n",
    "\n",
    "    # Generating a unique file name for the output MP3 file\n",
    "    save_file_path = f\"{uuid.uuid4()}.mp3\"\n",
    "\n",
    "    # Writing the audio to a file\n",
    "    with open(save_file_path, \"wb\") as f:\n",
    "        for chunk in response:\n",
    "            if chunk:\n",
    "                f.write(chunk)\n",
    "\n",
    "    print(f\"{save_file_path}: A new audio file was saved successfully!\")\n",
    "\n",
    "    # Return the path of the saved audio file\n",
    "    return save_file_path\n",
    "\n"
   ]
  },
  {
   "cell_type": "code",
   "execution_count": 10,
   "id": "52911fad",
   "metadata": {},
   "outputs": [
    {
     "name": "stdout",
     "output_type": "stream",
     "text": [
      "10f5e838-0610-4287-8969-392fca1f6ea8.mp3: A new audio file was saved successfully!\n"
     ]
    },
    {
     "data": {
      "text/plain": [
       "'10f5e838-0610-4287-8969-392fca1f6ea8.mp3'"
      ]
     },
     "execution_count": 10,
     "metadata": {},
     "output_type": "execute_result"
    }
   ],
   "source": [
    "text_to_speech_file(\"एक छोटे गाँव में, राजू नाम का एक लड़का रहता था। राजू को पेड़-पौधों से बहुत प्यार था। एक दिन, उसने एक छोटा सा पौधा लगाया। वह हर रोज उसे पानी देता और उसकी देखभाल करता। धीरे-धीरे, पौधा बड़ा हो गया और एक सुंदर पेड़ बन गया। राजू बहुत खुश था।\")"
   ]
  },
  {
   "cell_type": "code",
   "execution_count": 8,
   "id": "499037cc",
   "metadata": {},
   "outputs": [],
   "source": [
    "import boto3\n",
    "\n",
    "import os\n",
    "from dotenv import load_dotenv\n",
    "load_dotenv()\n",
    "aws_key_id = os.getenv(\"AWS_ACCESS_KEY\")\n",
    "aws_secret_id = os.getenv(\"AWS_SECRET_KEY\")\n",
    "\n",
    "s3 = boto3.client(\n",
    "    's3',\n",
    "    aws_access_key_id=aws_key_id,\n",
    "    aws_secret_access_key= aws_secret_id\n",
    ")\n"
   ]
  },
  {
   "cell_type": "code",
   "execution_count": 12,
   "id": "40c9df78",
   "metadata": {},
   "outputs": [
    {
     "name": "stdout",
     "output_type": "stream",
     "text": [
      "Existing buckets:\n",
      "  story-agent\n"
     ]
    }
   ],
   "source": [
    "import boto3\n",
    "# Retrieve the list of existing buckets\n",
    "s3 = boto3.client('s3')\n",
    "response = s3.list_buckets()\n",
    "\n",
    "# Output the bucket names\n",
    "print('Existing buckets:')\n",
    "for bucket in response['Buckets']:\n",
    "    print(f'  {bucket[\"Name\"]}')"
   ]
  },
  {
   "cell_type": "code",
   "execution_count": 15,
   "id": "038c7c0b",
   "metadata": {},
   "outputs": [
    {
     "name": "stdout",
     "output_type": "stream",
     "text": [
      "Files in bucket:\n",
      "ElevenLabs/2025-04-25_20-10-27.mp3\n",
      "ElevenLabs/2025-04-26_00-19-29.mp3\n",
      "ElevenLabs/2025-04-26_00-31-12.mp3\n",
      "ElevenLabs/2025-04-26_00-39-36.mp3\n",
      "ElevenLabs/2025-04-26_00-42-03.mp3\n"
     ]
    }
   ],
   "source": [
    "response = s3.list_objects_v2(Bucket=\"story-agent\")\n",
    "\n",
    "if 'Contents' in response:\n",
    "    print(\"Files in bucket:\")\n",
    "    for obj in response['Contents']:\n",
    "        print(obj['Key'])\n",
    "else:\n",
    "    print(\"Bucket is empty or does not exist.\")"
   ]
  },
  {
   "cell_type": "code",
   "execution_count": null,
   "id": "f64c6295",
   "metadata": {},
   "outputs": [],
   "source": []
  }
 ],
 "metadata": {
  "kernelspec": {
   "display_name": "base",
   "language": "python",
   "name": "python3"
  },
  "language_info": {
   "codemirror_mode": {
    "name": "ipython",
    "version": 3
   },
   "file_extension": ".py",
   "mimetype": "text/x-python",
   "name": "python",
   "nbconvert_exporter": "python",
   "pygments_lexer": "ipython3",
   "version": "3.11.5"
  }
 },
 "nbformat": 4,
 "nbformat_minor": 5
}
