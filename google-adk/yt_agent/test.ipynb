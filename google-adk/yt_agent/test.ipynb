{
 "cells": [
  {
   "cell_type": "code",
   "execution_count": 1,
   "id": "dfc5f119",
   "metadata": {},
   "outputs": [],
   "source": [
    "import warnings\n",
    "# Ignore all warnings\n",
    "warnings.filterwarnings(\"ignore\")\n",
    "import os\n",
    "\n",
    "import logging\n",
    "logging.basicConfig(level=logging.ERROR)\n",
    "import datetime\n",
    "from zoneinfo import ZoneInfo\n",
    "from google.adk.agents import Agent\n",
    "from pydantic import BaseModel, Field\n",
    "from google.adk.agents.parallel_agent import ParallelAgent\n",
    "from google.adk.models.lite_llm import LiteLlm # For multi-model support\n",
    "from google.adk.sessions import InMemorySessionService\n",
    "from google.adk.runners import Runner\n",
    "from google.genai import types # For creating message Content/Parts\n"
   ]
  },
  {
   "cell_type": "code",
   "execution_count": 2,
   "id": "f6e4bef8",
   "metadata": {},
   "outputs": [],
   "source": [
    "from yt_transcript import *\n",
    "\n",
    "yt_url = \"https://www.youtube.com/watch?v=sBuoMkJsMsA\""
   ]
  },
  {
   "cell_type": "code",
   "execution_count": 14,
   "id": "5bf72614",
   "metadata": {},
   "outputs": [],
   "source": [
    "AGENT_MODEL = \"gemini-2.0-flash\"\n",
    "root_agent = Agent(\n",
    "    name=\"yt_agent_v0\",\n",
    "    model=AGENT_MODEL, \n",
    "    description=\"Extracts transcripts from YouTube videos and summarizes the learnings related to a given topic.\",\n",
    "    instruction = (\n",
    "    \"You are an expert YouTube video summarizer. \"\n",
    "    \"Given a topic and a YouTube video URL, use the 'get_youtube_transcript' tool to extract the transcript (returned as a JSON with key 'result'). \"\n",
    "    \"From the transcript, generate a clear and concise summary that captures the key learnings relevant to the given topic. \"\n",
    "    \"Your output should be only the final summarized content — answer in bullet points.\"\n",
    "    ),\n",
    "    output_key='yt_agent_v0', \n",
    "    tools=[get_youtube_transcript],\n",
    ")\n",
    "\n",
    "root_agent_1 = Agent(\n",
    "    name=\"yt_agent_v1\",\n",
    "    model=AGENT_MODEL, \n",
    "    description=\"Extracts transcripts from YouTube videos and summarizes the learnings related to a given topic.\",\n",
    "    instruction = (\n",
    "    \"You are an expert YouTube video summarizer. \"\n",
    "    \"Given a topic and a YouTube video URL, use the 'get_youtube_transcript' tool to extract the transcript (returned as a JSON with key 'result'). \"\n",
    "    \"From the transcript, generate a clear and concise summary that captures the key learnings relevant to the given topic. \"\n",
    "    \"Your output should be only the final summarized content — answer in bullet points.\"\n",
    "    ),\n",
    "    output_key='yt_agent_v1',\n",
    "    tools=[get_youtube_transcript],\n",
    ")\n",
    "\n",
    "root_agent_2 = Agent(\n",
    "    name=\"yt_agent_v2\",\n",
    "    model=AGENT_MODEL, \n",
    "    description=\"Extracts transcripts from YouTube videos and summarizes the learnings related to a given topic.\",\n",
    "    instruction = (\n",
    "    \"You are an expert YouTube video summarizer. \"\n",
    "    \"Given a topic and a YouTube video URL, use the 'get_youtube_transcript' tool to extract the transcript (returned as a JSON with key 'result'). \"\n",
    "    \"From the transcript, generate a clear and concise summary that captures the key learnings relevant to the given topic. \"\n",
    "    \"Your output should be only the final summarized content — answer in bullet points.\"\n",
    "    ),\n",
    "    output_key='yt_agent_v2',\n",
    "    tools=[get_youtube_transcript],\n",
    ")"
   ]
  },
  {
   "cell_type": "code",
   "execution_count": 15,
   "id": "7c31da8e",
   "metadata": {},
   "outputs": [
    {
     "name": "stdout",
     "output_type": "stream",
     "text": [
      "Session created: App='yt_app', User='user_1', Session='session_001'\n",
      "Runner created for agent 'yt_agent_v0'.\n"
     ]
    }
   ],
   "source": [
    "session_service = InMemorySessionService()\n",
    "\n",
    "APP_NAME = \"yt_app\"\n",
    "USER_ID = \"user_1\"\n",
    "SESSION_ID = \"session_001\" \n",
    "\n",
    "# Create the specific session where the conversation will happen\n",
    "session = session_service.create_session(\n",
    "    app_name=APP_NAME,\n",
    "    user_id=USER_ID,\n",
    "    session_id=SESSION_ID\n",
    ")\n",
    "print(f\"Session created: App='{APP_NAME}', User='{USER_ID}', Session='{SESSION_ID}'\")\n",
    "\n",
    "# --- Runner ---\n",
    "runner = Runner(\n",
    "    agent=root_agent, \n",
    "    app_name=APP_NAME,   \n",
    "    session_service=session_service #\n",
    ")\n",
    "print(f\"Runner created for agent '{runner.agent.name}'.\")"
   ]
  },
  {
   "cell_type": "code",
   "execution_count": 16,
   "id": "778f401d",
   "metadata": {},
   "outputs": [],
   "source": [
    "import asyncio\n",
    "from google.genai import types \n",
    "\n",
    "async def call_agent_async(query: str):\n",
    "  \"\"\"Sends a query to the agent and prints the final response.\"\"\"\n",
    "  print(f\"\\n>>> User Query: {query}\")\n",
    "\n",
    "  # Prepare the user's message in ADK format\n",
    "  content = types.Content(role='user', parts=[types.Part(text=query)])\n",
    "\n",
    "  final_response_text = \"Agent did not produce a final response.\" #default\n",
    "\n",
    "  async for event in runner.run_async(user_id=USER_ID, session_id=SESSION_ID, new_message=content):\n",
    "      # You can uncomment the line below to see *all* events during execution\n",
    "      # print(f\"  [Event] Author: {event.author}, Type: {type(event).__name__}, Final: {event.is_final_response()}, Content: {event.content}\")\n",
    "\n",
    "      # Key Concept: is_final_response() marks the concluding message for the turn.\n",
    "      if event.is_final_response():\n",
    "          if event.content and event.content.parts:\n",
    "             # Assuming text response in the first part\n",
    "             final_response_text = event.content.parts[0].text\n",
    "          elif event.actions and event.actions.escalate: # Handle potential errors/escalations\n",
    "             final_response_text = f\"Agent escalated: {event.error_message or 'No specific message.'}\"\n",
    "          break \n",
    "\n",
    "  print(f\"<<< Agent Response: {final_response_text}\")\n",
    "  return final_response_text"
   ]
  },
  {
   "cell_type": "code",
   "execution_count": 17,
   "id": "d7985137",
   "metadata": {},
   "outputs": [
    {
     "name": "stdout",
     "output_type": "stream",
     "text": [
      "\n",
      ">>> User Query: how to swim? yt_url= https://www.youtube.com/watch?v=sBuoMkJsMsA\n",
      "<<< Agent Response: Here's a summary of how to swim freestyle, based on the YouTube video transcript:\n",
      "\n",
      "*   **Step 1: Streamline:** Practice gliding on the surface with your hands forward, chin down, and blowing bubbles.\n",
      "*   **Step 2: Arm Strokes:** Use a kickboard to practice pulling with your arms, keeping your elbows high and feeling the pressure on your hands and forearms. Then, try the same motion without the board, gliding with your hands on the surface and taking three strokes before breathing. To breathe, turn your head to the side as you pull with your hand, keeping your eye on the water.\n",
      "*   **Step 3: Full Freestyle:** Instead of touching your hands together in front, glide with your hands one by one. Open your hands, relax your elbows, and reach as far as possible to touch the surface of the water. Stretch with your shoulders and nails, and avoid being stiff. Focus on smoothness and gliding on the surface.\n"
     ]
    }
   ],
   "source": [
    "text = await call_agent_async(f\"how to swim? yt_url= {yt_url}\")"
   ]
  },
  {
   "cell_type": "code",
   "execution_count": 22,
   "id": "331a4031",
   "metadata": {},
   "outputs": [
    {
     "data": {
      "text/plain": [
       "{'yt_agent_v0': \"Here's a summary of how to swim freestyle, based on the YouTube video transcript:\\n\\n*   **Step 1: Streamline:** Practice gliding on the surface with your hands forward, chin down, and blowing bubbles.\\n*   **Step 2: Arm Strokes:** Use a kickboard to practice pulling with your arms, keeping your elbows high and feeling the pressure on your hands and forearms. Then, try the same motion without the board, gliding with your hands on the surface and taking three strokes before breathing. To breathe, turn your head to the side as you pull with your hand, keeping your eye on the water.\\n*   **Step 3: Full Freestyle:** Instead of touching your hands together in front, glide with your hands one by one. Open your hands, relax your elbows, and reach as far as possible to touch the surface of the water. Stretch with your shoulders and nails, and avoid being stiff. Focus on smoothness and gliding on the surface.\"}"
      ]
     },
     "execution_count": 22,
     "metadata": {},
     "output_type": "execute_result"
    }
   ],
   "source": [
    "session = session_service.get_session(\n",
    "    app_name=APP_NAME,\n",
    "    user_id=USER_ID,\n",
    "    session_id=SESSION_ID\n",
    ")\n",
    "session.state"
   ]
  },
  {
   "cell_type": "markdown",
   "id": "41a8a176",
   "metadata": {},
   "source": [
    "# Parallel Agent"
   ]
  },
  {
   "cell_type": "code",
   "execution_count": 9,
   "id": "e5c0b347",
   "metadata": {},
   "outputs": [],
   "source": [
    "parallel_research_agent = ParallelAgent(\n",
    "    name=\"ParallelWebResearchAgent\",\n",
    "    sub_agents=[root_agent_1, root_agent_2]\n",
    ")"
   ]
  },
  {
   "cell_type": "code",
   "execution_count": null,
   "id": "2cac3a7d",
   "metadata": {},
   "outputs": [
    {
     "name": "stdout",
     "output_type": "stream",
     "text": [
      "Agent Response:  Here's a summary of the key learnings on how to swim freestyle from the provided transcript:\n",
      "\n",
      "*   **Step 1: Streamline Position.** Practice blowing bubbles, stretching arms forward, and gliding on the surface with your head down and legs aligned.\n",
      "*   **Step 2: Arm Strokes with a Board.** Use a kickboard to practice pulling through the water with your arms, keeping your elbows up. Focus on the pressure on your hands and forearms. Then, practice the same movement without the board, gliding with your hands on the surface.\n",
      "*   **Step 3: Freestyle with Breathing.** Incorporate breathing into your stroke. Breathe after every third stroke by turning your head to the side as you pull with your hand on that side. Keep your eye on the water while breathing.\n",
      "*   **Real Freestyle Technique:** Instead of touching your hands together, glide with your hands one by one. Open your hands like your shoulders, lift up your elbows, relax your hands, and try to reach as far as possible to touch the surface of the water.\n",
      "Agent Response:  Here's a summary of how to swim freestyle, based on the YouTube transcript:\n",
      "\n",
      "*   **Step 1: Streamline:** Practice gliding on the surface with arms stretched forward, chin down, and blowing bubbles. Focus on feeling comfortable and relaxed.\n",
      "*   **Step 2: Arm Strokes with a Board:** Use a kickboard to practice arm strokes, keeping elbows high and pushing water with hands and forearms. Concentrate on the pressure and moving forward. Then, try the same without the board, gliding hands forward on the surface.\n",
      "*   **Step 3: Freestyle with Breathing:** Incorporate breathing every third stroke. Turn your head to the side while pulling with your hand to breathe, keeping your face close to the water and eyes on the water.\n",
      "*   **Real Freestyle:** Glide with hands one by one, opening your hands like your shoulders, and avoiding stiffness. After finishing a stroke, lift your elbows, drop your hand to touch the water as far as possible, and glide underwater, stretching with your shoulders. The hands work together, one gliding while the other pulls, focusing on smoothness.\n"
     ]
    }
   ],
   "source": [
    "APP_NAME = \"yt_app_advanced\"\n",
    "USER_ID = \"user_2\"\n",
    "SESSION_ID = \"session_002\" \n",
    "\n",
    "# Session and Runner\n",
    "session_service = InMemorySessionService()\n",
    "session = session_service.create_session(app_name=APP_NAME, user_id=USER_ID, session_id=SESSION_ID)\n",
    "runner = Runner(agent=parallel_research_agent, app_name=APP_NAME, session_service=session_service)\n",
    "\n",
    "\n",
    "# Agent Interaction\n",
    "def call_agent(query):\n",
    "    '''\n",
    "    Helper function to call the agent with a query.\n",
    "    '''\n",
    "    content = types.Content(role='user', parts=[types.Part(text=query)])\n",
    "    events = runner.run(user_id=USER_ID, session_id=SESSION_ID, new_message=content)\n",
    "\n",
    "    for event in events:\n",
    "        if event.is_final_response():\n",
    "            final_response = event.content.parts[0].text\n",
    "            print(\"Agent Response: \", final_response)\n",
    "\n",
    "call_agent(f\"how to swim? yt_url= {yt_url}\")"
   ]
  },
  {
   "cell_type": "code",
   "execution_count": null,
   "id": "5514b0b1",
   "metadata": {},
   "outputs": [],
   "source": []
  }
 ],
 "metadata": {
  "kernelspec": {
   "display_name": "base",
   "language": "python",
   "name": "python3"
  },
  "language_info": {
   "codemirror_mode": {
    "name": "ipython",
    "version": 3
   },
   "file_extension": ".py",
   "mimetype": "text/x-python",
   "name": "python",
   "nbconvert_exporter": "python",
   "pygments_lexer": "ipython3",
   "version": "3.11.5"
  }
 },
 "nbformat": 4,
 "nbformat_minor": 5
}
