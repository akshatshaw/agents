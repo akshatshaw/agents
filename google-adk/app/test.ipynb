{
 "cells": [
  {
   "cell_type": "code",
   "execution_count": 21,
   "id": "dfc5f119",
   "metadata": {},
   "outputs": [],
   "source": [
    "import warnings\n",
    "# Ignore all warnings\n",
    "warnings.filterwarnings(\"ignore\")\n",
    "import os\n",
    "\n",
    "import logging\n",
    "logging.basicConfig(level=logging.ERROR)\n",
    "import datetime\n",
    "from zoneinfo import ZoneInfo\n",
    "from google.adk.agents import Agent\n",
    "from pydantic import BaseModel, Field\n",
    "from google.adk.agents.parallel_agent import ParallelAgent\n",
    "from google.adk.models.lite_llm import LiteLlm # For multi-model support\n",
    "from google.adk.sessions import InMemorySessionService\n",
    "from google.adk.runners import Runner\n",
    "from google.genai import types # For creating message Content/Parts\n"
   ]
  },
  {
   "cell_type": "code",
   "execution_count": 22,
   "id": "f6e4bef8",
   "metadata": {},
   "outputs": [],
   "source": [
    "from yt_transcript import *\n",
    "\n",
    "yt_url = \"https://www.youtube.com/watch?v=sBuoMkJsMsA\""
   ]
  },
  {
   "cell_type": "code",
   "execution_count": 23,
   "id": "5bf72614",
   "metadata": {},
   "outputs": [],
   "source": [
    "AGENT_MODEL = \"gemini-2.0-flash\"\n",
    "root_agent = Agent(\n",
    "    name=\"yt_agent_v0\",\n",
    "    model=AGENT_MODEL, \n",
    "    description=\"Extracts transcripts from YouTube videos and summarizes the learnings related to a given topic.\",\n",
    "    instruction = (\n",
    "    \"You are an expert YouTube video summarizer. \"\n",
    "    \"Given a topic and a YouTube video URL, use the 'get_youtube_transcript' tool to extract the transcript (returned as a JSON with key 'result'). \"\n",
    "    \"From the transcript, generate a clear and concise summary that captures the key learnings relevant to the given topic. \"\n",
    "    \"Your output should be only the final summarized content — answer in bullet points.\"\n",
    "    \"access the video url from session.state['q1']\"\n",
    "    ),\n",
    "    output_key='yt_agent_v0', \n",
    "    tools=[get_youtube_transcript],\n",
    ")\n",
    "\n",
    "root_agent_1 = Agent(\n",
    "    name=\"yt_agent_v1\",\n",
    "    model=AGENT_MODEL, \n",
    "    description=\"Extracts transcripts from YouTube videos and summarizes the learnings related to a given topic.\",\n",
    "    instruction = (\n",
    "    \"You are an expert YouTube video summarizer. \"\n",
    "    \"Given a topic and a YouTube video URL, use the 'get_youtube_transcript' tool to extract the transcript (returned as a JSON with key 'result'). \"\n",
    "    \"From the transcript, generate a clear and concise summary that captures the key learnings relevant to the given topic. \"\n",
    "    \"Your output should be only the final summarized content — answer in bullet points.\"\n",
    "    \"access the video url from session.state['q2']\"\n",
    "    ),\n",
    "    output_key='yt_agent_v1',\n",
    "    tools=[get_youtube_transcript],\n",
    ")\n",
    "\n",
    "root_agent_2 = Agent(\n",
    "    name=\"yt_agent_v2\",\n",
    "    model=AGENT_MODEL, \n",
    "    description=\"Extracts transcripts from YouTube videos and summarizes the learnings related to a given topic.\",\n",
    "    instruction = (\n",
    "    \"You are an expert YouTube video summarizer. \"\n",
    "    \"Given a topic and a YouTube video URL, use the 'get_youtube_transcript' tool to extract the transcript (returned as a JSON with key 'result'). \"\n",
    "    \"From the transcript, generate a clear and concise summary that captures the key learnings relevant to the given topic. \"\n",
    "    \"Your output should be only the final summarized content — answer in bullet points.\"\n",
    "    \"access the video url from session.state['q3']\"\n",
    "    ),\n",
    "    output_key='yt_agent_v2',\n",
    "    tools=[get_youtube_transcript],\n",
    ")"
   ]
  },
  {
   "cell_type": "code",
   "execution_count": 24,
   "id": "7c31da8e",
   "metadata": {},
   "outputs": [
    {
     "name": "stdout",
     "output_type": "stream",
     "text": [
      "Session created: App='yt_app', User='user_1', Session='session_001'\n",
      "Runner created for agent 'yt_agent_v0'.\n"
     ]
    }
   ],
   "source": [
    "session_service = InMemorySessionService()\n",
    "\n",
    "APP_NAME = \"yt_app\"\n",
    "USER_ID = \"user_1\"\n",
    "SESSION_ID = \"session_001\" \n",
    "\n",
    "# Create the specific session where the conversation will happen\n",
    "session = session_service.create_session(\n",
    "    app_name=APP_NAME,\n",
    "    user_id=USER_ID,\n",
    "    session_id=SESSION_ID\n",
    ")\n",
    "print(f\"Session created: App='{APP_NAME}', User='{USER_ID}', Session='{SESSION_ID}'\")\n",
    "\n",
    "# --- Runner ---\n",
    "runner = Runner(\n",
    "    agent=root_agent, \n",
    "    app_name=APP_NAME,   \n",
    "    session_service=session_service #\n",
    ")\n",
    "print(f\"Runner created for agent '{runner.agent.name}'.\")"
   ]
  },
  {
   "cell_type": "code",
   "execution_count": 25,
   "id": "778f401d",
   "metadata": {},
   "outputs": [],
   "source": [
    "import asyncio\n",
    "from google.genai import types \n",
    "\n",
    "async def call_agent_async(query: str, runner: Runner):\n",
    "  \"\"\"Sends a query to the agent and prints the final response.\"\"\"\n",
    "  print(f\"\\n>>> User Query: {query}\")\n",
    "\n",
    "  # Prepare the user's message in ADK format\n",
    "  content = types.Content(role='user', parts=[types.Part(text=query)])\n",
    "\n",
    "  final_response_text = \"Agent did not produce a final response.\" #default\n",
    "\n",
    "  async for event in runner.run_async(user_id=USER_ID, session_id=SESSION_ID, new_message=content):\n",
    "      # You can uncomment the line below to see *all* events during execution\n",
    "      # print(f\"  [Event] Author: {event.author}, Type: {type(event).__name__}, Final: {event.is_final_response()}, Content: {event.content}\")\n",
    "\n",
    "      # Key Concept: is_final_response() marks the concluding message for the turn.\n",
    "      if event.is_final_response():\n",
    "          if event.content and event.content.parts:\n",
    "             # Assuming text response in the first part\n",
    "             final_response_text = event.content.parts[0].text\n",
    "          elif event.actions and event.actions.escalate: # Handle potential errors/escalations\n",
    "             final_response_text = f\"Agent escalated: {event.error_message or 'No specific message.'}\"\n",
    "          break \n",
    "\n",
    "  print(f\"<<< Agent Response: {final_response_text}\")\n",
    "  return final_response_text"
   ]
  },
  {
   "cell_type": "code",
   "execution_count": 26,
   "id": "d7985137",
   "metadata": {},
   "outputs": [
    {
     "name": "stdout",
     "output_type": "stream",
     "text": [
      "\n",
      ">>> User Query: how to swim? yt_url= https://www.youtube.com/watch?v=sBuoMkJsMsA\n",
      "<<< Agent Response: Here's a summary of how to swim freestyle, based on the video transcript:\n",
      "\n",
      "*   **Step 1: Streamline.** Practice gliding on the surface with your head down and arms stretched forward. Focus on pushing off the wall and maintaining a streamlined position.\n",
      "*   **Step 2: Arm Strokes with a Board.** Use a kickboard to practice arm strokes, keeping your elbows high and pushing the water with your hands and forearms. Feel the pressure in the water as you pull. Then, practice the same movement without the board, gliding forward with your hands on the surface.\n",
      "*   **Step 3: Freestyle with Breathing.** Incorporate breathing into your stroke. After every third stroke, turn your head to the side to breathe, ensuring your eye remains on the water and you're not lifting your head too high. Alternate breathing to the left and right sides.\n",
      "*   **Real Freestyle:** Instead of touching hands together, glide with hands one by one. Open your hands like your shoulders while you're here and avoid being like a robot and remain smooth.\n"
     ]
    }
   ],
   "source": [
    "text = await call_agent_async(f\"how to swim? yt_url= {yt_url}\", runner)"
   ]
  },
  {
   "cell_type": "code",
   "execution_count": 27,
   "id": "331a4031",
   "metadata": {},
   "outputs": [
    {
     "data": {
      "text/plain": [
       "\"Here's a summary of how to swim freestyle, based on the video transcript:\\n\\n*   **Step 1: Streamline.** Practice gliding on the surface with your head down and arms stretched forward. Focus on pushing off the wall and maintaining a streamlined position.\\n*   **Step 2: Arm Strokes with a Board.** Use a kickboard to practice arm strokes, keeping your elbows high and pushing the water with your hands and forearms. Feel the pressure in the water as you pull. Then, practice the same movement without the board, gliding forward with your hands on the surface.\\n*   **Step 3: Freestyle with Breathing.** Incorporate breathing into your stroke. After every third stroke, turn your head to the side to breathe, ensuring your eye remains on the water and you're not lifting your head too high. Alternate breathing to the left and right sides.\\n*   **Real Freestyle:** Instead of touching hands together, glide with hands one by one. Open your hands like your shoulders while you're here and avoid being like a robot and remain smooth.\""
      ]
     },
     "execution_count": 27,
     "metadata": {},
     "output_type": "execute_result"
    }
   ],
   "source": [
    "session = session_service.get_session(\n",
    "    app_name=APP_NAME,\n",
    "    user_id=USER_ID,\n",
    "    session_id=SESSION_ID\n",
    ")\n",
    "session.state['yt_agent_v0']"
   ]
  },
  {
   "cell_type": "markdown",
   "id": "41a8a176",
   "metadata": {},
   "source": [
    "# Parallel Agent"
   ]
  },
  {
   "cell_type": "code",
   "execution_count": 28,
   "id": "e5c0b347",
   "metadata": {},
   "outputs": [],
   "source": [
    "# parallel_research_agent = ParallelAgent(\n",
    "#     name=\"ParallelWebResearchAgent\",\n",
    "#     sub_agents=[root_agent, root_agent_1, root_agent_2]\n",
    "# )"
   ]
  },
  {
   "cell_type": "code",
   "execution_count": 29,
   "id": "2cac3a7d",
   "metadata": {},
   "outputs": [],
   "source": [
    "# APP_NAME = \"yt_app_advanced\"\n",
    "# USER_ID = \"user_2\"\n",
    "# SESSION_ID = \"session_002\" \n",
    "\n",
    "# Session and Runner\n",
    "# session_service = InMemorySessionService()\n",
    "# session = session_service.create_session(app_name=APP_NAME, user_id=USER_ID, session_id=SESSION_ID)\n",
    "# runner = Runner(agent=parallel_research_agent, app_name=APP_NAME, session_service=session_service)\n",
    "\n",
    "\n",
    "# # Agent Interaction\n",
    "# def call_agent(query):\n",
    "#     '''\n",
    "#     Helper function to call the agent with a query.\n",
    "#     '''\n",
    "#     content = types.Content(role='user', parts=[types.Part(text=query)])\n",
    "#     events = runner.run(user_id=USER_ID, session_id=SESSION_ID, new_message=content)\n",
    "\n",
    "#     for event in events:\n",
    "#         if event.is_final_response():\n",
    "#             final_response = event.content.parts[0].text\n",
    "#             print(\"Agent Response: \", final_response)\n",
    "\n",
    "# call_agent(f\"how to swim? yt_url= {yt_url}\")"
   ]
  },
  {
   "cell_type": "code",
   "execution_count": 30,
   "id": "32ad617f",
   "metadata": {},
   "outputs": [],
   "source": [
    "yt_url_1 =\"https://www.youtube.com/watch?v=sBuoMkJsMsA\"\n",
    "yt_url_2 = \"https://www.youtube.com/watch?v=1nnndhSc4iw\"\n",
    "yt_url_3 = \"https://www.youtube.com/watch?v=_kGESn8ArrU\""
   ]
  },
  {
   "cell_type": "code",
   "execution_count": 31,
   "id": "5514b0b1",
   "metadata": {},
   "outputs": [],
   "source": [
    "# async def process_multiple_queries(queries):    \n",
    "#     # Create a trigger message to start processing\n",
    "#     query = f\"Process all queries in parallel in the sequence {queries['q1']}, {queries['q2']}, {queries['q3']}\"\n",
    "#     message = types.Content(\n",
    "#         role=\"user\", \n",
    "#         parts=[types.Part(text=query)]\n",
    "#     )\n",
    "#     session = session_service.get_session(app_name=APP_NAME, user_id=USER_ID, session_id=SESSION_ID)\n",
    "#     # Run the parallel agent\n",
    "#     async for event in runner.run_async(\n",
    "#         user_id=USER_ID, \n",
    "#         session_id=SESSION_ID, \n",
    "#         new_message=message\n",
    "#     ):\n",
    "#         if event.is_final_response():\n",
    "#             # Processing complete, now retrieve results from session state\n",
    "#             results = {\n",
    "#                 \"q1\": session.state.get(\"yt_agent_v0\"),\n",
    "#                 \"q2\": session.state.get(\"yt_agent_v1\"),\n",
    "#                 \"q3\": session.state.get(\"yt_agent_v2\")\n",
    "#             }\n",
    "#             return results\n",
    "\n",
    "\n",
    "# queries = {\n",
    "#     \"q1\": f\"how to swim? yt_url= {yt_url_1}\",\n",
    "#     \"q2\": f\"how to sing? yt_url= {yt_url_2}\",\n",
    "#     \"q3\": f\"how to run? yt_url= {yt_url_3}\"\n",
    "# }\n",
    "# results = await process_multiple_queries(queries)\n",
    "# print(results)"
   ]
  },
  {
   "cell_type": "code",
   "execution_count": 32,
   "id": "dd24ce4b",
   "metadata": {},
   "outputs": [],
   "source": [
    "# session = session_service.get_session(app_name=APP_NAME, user_id=USER_ID, session_id=SESSION_ID)\n",
    "# session.state"
   ]
  },
  {
   "cell_type": "markdown",
   "id": "f505b485",
   "metadata": {},
   "source": [
    "# Iterating multiple queries"
   ]
  },
  {
   "cell_type": "code",
   "execution_count": 33,
   "id": "3955774d",
   "metadata": {},
   "outputs": [],
   "source": [
    "queries = {\n",
    "    \"q1\": f\"how to swim? yt_url= {yt_url_1}\",\n",
    "    \"q2\": f\"how to sing? yt_url= {yt_url_2}\",\n",
    "    \"q3\": f\"how to run? yt_url= {yt_url_3}\"\n",
    "}"
   ]
  },
  {
   "cell_type": "code",
   "execution_count": 34,
   "id": "d84fd62d",
   "metadata": {},
   "outputs": [
    {
     "name": "stdout",
     "output_type": "stream",
     "text": [
      "\n",
      ">>> User Query: how to swim? yt_url= https://www.youtube.com/watch?v=sBuoMkJsMsA\n",
      "<<< Agent Response: *   **Step 1: Streamline:** Practice gliding on the surface with your head down and arms stretched forward.\n",
      "*   **Step 2: Arm Strokes with a Board:** Use a kickboard, keep elbows high, and feel the pressure as you pull. Then, practice without the board, gliding with hands on the surface.\n",
      "*   **Step 3: Freestyle with Breathing:** Breathe every third stroke, turning your head to the side, keeping your eye on the water.\n",
      "*   **Real Freestyle:** Glide with alternating hands, opening them like shoulders, maintaining smooth motion.\n",
      "\n",
      ">>> User Query: how to sing? yt_url= https://www.youtube.com/watch?v=1nnndhSc4iw\n",
      "<<< Agent Response: Here's a summary of how to sing better instantly, based on the video transcript:\n",
      "\n",
      "*   **Find Your Voice's Resting Place:** Start by sighing with your mouth closed (hmm) to find a strain-free vocal baseline. Then, do a glissando (sliding down through notes) to find the note where your voice rests most comfortably.\n",
      "*   **Drop Your Jaw:** Once you've found that comfortable note, drop your jaw while maintaining the same relaxed feeling as the hum. Avoid tension or changing the sound.\n",
      "*   **Sing a Phrase:** Choose a phrase from a song and sing it, trying to maintain the same relaxed feeling from the initial hum. Don't worry about the correct pitch initially; focus on the relaxed sound.\n",
      "*   **Maintain Relaxation:** Carry this relaxed feeling throughout your voice, even when singing in different ranges. Even when belting, aim for the same ease in your throat.\n",
      "*   **Play with Pitch Variations:** Practice singing the same phrase at different pitch levels (higher and lower) to see how it changes and to get comfortable carrying that relaxed feeling throughout your range.\n",
      "\n",
      ">>> User Query: how to run? yt_url= https://www.youtube.com/watch?v=_kGESn8ArrU\n",
      "<<< Agent Response: Here's a summary of how to run, based on the video transcript:\n",
      "\n",
      "*   **Posture:** Stand tall with your head high, shoulders open, tummy tucked in, and hips facing forward. Imagine a line dissecting your body from your feet to your ears, maintaining it with a slight forward tilt while running.\n",
      "*   **Feet and Ankles:** Aim for a midfoot strike with a slight bend in your knee to absorb shock. Avoid overstriding by landing your foot underneath your body as it moves backward.\n",
      "*   **Running on the Spot Drills:** Incorporate high knees (bringing knees to hip height) and butt kicks (flicking heels towards your hands) to improve foot landing and posture.\n",
      "*   **Hips:** Engage your glutes and ensure hip flexibility for full leg extension and propulsion.\n",
      "*   **Shoulders and Arms:** Keep your shoulders relaxed and use your arms to drive you forward with a gentle bend in your elbows, close to your torso. Avoid movement across your body.\n",
      "*   **Head:** Keep your head in line with your body, looking far ahead to maintain posture and avoid excessive movement.\n",
      "*   **Breathing:** Utilize your full lung capacity by breathing deeply into your belly. Practice breathing exercises before running to stay relaxed.\n",
      "*   **Footwear:** Get fitted for appropriate running shoes at a specialist store.\n",
      "*   **Strengthening:** Strengthen your core and hip muscles to maintain good posture.\n"
     ]
    }
   ],
   "source": [
    "text = [await call_agent_async(f\"{query}\", runner) for query in queries.values()]"
   ]
  },
  {
   "cell_type": "code",
   "execution_count": 35,
   "id": "16486873",
   "metadata": {},
   "outputs": [],
   "source": [
    "main_agent = Agent(\n",
    "    name=\"yt_agent_main\",\n",
    "    model=AGENT_MODEL, \n",
    "    description=\"Summurises the whole knowledge based on multiple youtube video summuries.\",\n",
    "    instruction = (\n",
    "    \"You are an expert YouTube video summarizer. \"\n",
    "    \"Given a topic and multiple short summary from YouTube videos, you are asked to elaborate the whole knowledge. \"\n",
    "    \"From the summary, generate a clear and precise summary that captures the key learnings relevant to the given topic. \"\n",
    "    \"Your output should be only the final content — answer in bullet points.\"\n",
    "    ),\n",
    "    output_key='yt_agent_main',\n",
    ")"
   ]
  },
  {
   "cell_type": "code",
   "execution_count": 36,
   "id": "7b13f712",
   "metadata": {},
   "outputs": [],
   "source": [
    "import asyncio\n",
    "from google.genai import types \n",
    "\n",
    "runner_main = Runner(\n",
    "    agent=main_agent, \n",
    "    app_name=APP_NAME,   \n",
    "    session_service=session_service \n",
    ")"
   ]
  },
  {
   "cell_type": "code",
   "execution_count": 37,
   "id": "06c6c622",
   "metadata": {},
   "outputs": [
    {
     "name": "stdout",
     "output_type": "stream",
     "text": [
      "\n",
      ">>> User Query: ['*   **Step 1: Streamline:** Practice gliding on the surface with your head down and arms stretched forward.\\n*   **Step 2: Arm Strokes with a Board:** Use a kickboard, keep elbows high, and feel the pressure as you pull. Then, practice without the board, gliding with hands on the surface.\\n*   **Step 3: Freestyle with Breathing:** Breathe every third stroke, turning your head to the side, keeping your eye on the water.\\n*   **Real Freestyle:** Glide with alternating hands, opening them like shoulders, maintaining smooth motion.', \"Here's a summary of how to sing better instantly, based on the video transcript:\\n\\n*   **Find Your Voice's Resting Place:** Start by sighing with your mouth closed (hmm) to find a strain-free vocal baseline. Then, do a glissando (sliding down through notes) to find the note where your voice rests most comfortably.\\n*   **Drop Your Jaw:** Once you've found that comfortable note, drop your jaw while maintaining the same relaxed feeling as the hum. Avoid tension or changing the sound.\\n*   **Sing a Phrase:** Choose a phrase from a song and sing it, trying to maintain the same relaxed feeling from the initial hum. Don't worry about the correct pitch initially; focus on the relaxed sound.\\n*   **Maintain Relaxation:** Carry this relaxed feeling throughout your voice, even when singing in different ranges. Even when belting, aim for the same ease in your throat.\\n*   **Play with Pitch Variations:** Practice singing the same phrase at different pitch levels (higher and lower) to see how it changes and to get comfortable carrying that relaxed feeling throughout your range.\", \"Here's a summary of how to run, based on the video transcript:\\n\\n*   **Posture:** Stand tall with your head high, shoulders open, tummy tucked in, and hips facing forward. Imagine a line dissecting your body from your feet to your ears, maintaining it with a slight forward tilt while running.\\n*   **Feet and Ankles:** Aim for a midfoot strike with a slight bend in your knee to absorb shock. Avoid overstriding by landing your foot underneath your body as it moves backward.\\n*   **Running on the Spot Drills:** Incorporate high knees (bringing knees to hip height) and butt kicks (flicking heels towards your hands) to improve foot landing and posture.\\n*   **Hips:** Engage your glutes and ensure hip flexibility for full leg extension and propulsion.\\n*   **Shoulders and Arms:** Keep your shoulders relaxed and use your arms to drive you forward with a gentle bend in your elbows, close to your torso. Avoid movement across your body.\\n*   **Head:** Keep your head in line with your body, looking far ahead to maintain posture and avoid excessive movement.\\n*   **Breathing:** Utilize your full lung capacity by breathing deeply into your belly. Practice breathing exercises before running to stay relaxed.\\n*   **Footwear:** Get fitted for appropriate running shoes at a specialist store.\\n*   **Strengthening:** Strengthen your core and hip muscles to maintain good posture.\"]\n",
      "<<< Agent Response: Here's a comprehensive guide incorporating key learnings from swimming, singing, and running:\n",
      "\n",
      "*   **Swimming (Freestyle):**\n",
      "    *   **Streamline:** Begin by practicing a streamlined glide on the surface, keeping your head down and arms stretched forward to reduce drag.\n",
      "    *   **Arm Strokes:** Use a kickboard to focus on arm strokes, maintaining high elbows and feeling the water pressure as you pull. Practice the same motion without the board, gliding with your hands along the surface.\n",
      "    *   **Breathing:** Integrate breathing every third stroke by turning your head to the side, keeping one eye in the water to maintain balance and body position.\n",
      "    *   **Freestyle Technique:** Emphasize gliding with alternating hands, opening them like your shoulders to maintain a smooth, efficient motion through the water.\n",
      "\n",
      "*   **Singing:**\n",
      "    *   **Find Your Natural Voice:** Start by humming to find a relaxed, strain-free vocal baseline. Use a glissando (sliding between notes) to identify the note where your voice naturally rests most comfortably.\n",
      "    *   **Proper Mouth Position:** Drop your jaw while maintaining the relaxed feeling of the hum. Avoid tension or changing the sound's quality.\n",
      "    *   **Practice with Phrases:** Sing phrases from songs, concentrating on maintaining the relaxed feeling achieved during humming. Initially, prioritize relaxation over perfect pitch.\n",
      "    *   **Maintain Relaxation:** Carry the relaxed feeling throughout your vocal range, even when belting. Aim for consistent ease in your throat.\n",
      "    *   **Pitch Variation:** Practice singing the same phrase at different pitch levels to increase comfort and control across your vocal range.\n",
      "\n",
      "*   **Running:**\n",
      "    *   **Posture:** Stand tall with your head high, shoulders open, core engaged, and hips forward. Visualize a line running from your feet to your ears, maintaining it with a slight forward lean while running.\n",
      "    *   **Foot Strike:** Aim for a midfoot strike with a slight bend in your knee to absorb impact. Avoid overstriding by ensuring your foot lands beneath your body as it moves backward.\n",
      "    *   **Drills:** Incorporate drills like high knees (bringing knees to hip height) and butt kicks (flicking heels toward your glutes) to enhance foot landing and posture.\n",
      "    *   **Hip Engagement:** Engage your glutes and ensure hip flexibility for full leg extension and propulsion during each stride.\n",
      "    *   **Arm Movement:** Keep your shoulders relaxed and use your arms to drive you forward, maintaining a slight bend in your elbows and keeping them close to your body. Avoid crossing your arms across your body.\n",
      "    *   **Head Position:** Keep your head aligned with your body, looking ahead to maintain proper posture and avoid unnecessary strain.\n",
      "    *   **Breathing:** Utilize your full lung capacity by breathing deeply into your abdomen. Practice breathing exercises before running to promote relaxation and maximize lung capacity.\n",
      "    *   **Footwear:** Get professionally fitted for running shoes at a specialty store to ensure they match your running style and foot type.\n",
      "    *   **Strengthening:** Strengthen your core and hip muscles to maintain good posture and improve running efficiency.\n"
     ]
    },
    {
     "data": {
      "text/plain": [
       "\"Here's a comprehensive guide incorporating key learnings from swimming, singing, and running:\\n\\n*   **Swimming (Freestyle):**\\n    *   **Streamline:** Begin by practicing a streamlined glide on the surface, keeping your head down and arms stretched forward to reduce drag.\\n    *   **Arm Strokes:** Use a kickboard to focus on arm strokes, maintaining high elbows and feeling the water pressure as you pull. Practice the same motion without the board, gliding with your hands along the surface.\\n    *   **Breathing:** Integrate breathing every third stroke by turning your head to the side, keeping one eye in the water to maintain balance and body position.\\n    *   **Freestyle Technique:** Emphasize gliding with alternating hands, opening them like your shoulders to maintain a smooth, efficient motion through the water.\\n\\n*   **Singing:**\\n    *   **Find Your Natural Voice:** Start by humming to find a relaxed, strain-free vocal baseline. Use a glissando (sliding between notes) to identify the note where your voice naturally rests most comfortably.\\n    *   **Proper Mouth Position:** Drop your jaw while maintaining the relaxed feeling of the hum. Avoid tension or changing the sound's quality.\\n    *   **Practice with Phrases:** Sing phrases from songs, concentrating on maintaining the relaxed feeling achieved during humming. Initially, prioritize relaxation over perfect pitch.\\n    *   **Maintain Relaxation:** Carry the relaxed feeling throughout your vocal range, even when belting. Aim for consistent ease in your throat.\\n    *   **Pitch Variation:** Practice singing the same phrase at different pitch levels to increase comfort and control across your vocal range.\\n\\n*   **Running:**\\n    *   **Posture:** Stand tall with your head high, shoulders open, core engaged, and hips forward. Visualize a line running from your feet to your ears, maintaining it with a slight forward lean while running.\\n    *   **Foot Strike:** Aim for a midfoot strike with a slight bend in your knee to absorb impact. Avoid overstriding by ensuring your foot lands beneath your body as it moves backward.\\n    *   **Drills:** Incorporate drills like high knees (bringing knees to hip height) and butt kicks (flicking heels toward your glutes) to enhance foot landing and posture.\\n    *   **Hip Engagement:** Engage your glutes and ensure hip flexibility for full leg extension and propulsion during each stride.\\n    *   **Arm Movement:** Keep your shoulders relaxed and use your arms to drive you forward, maintaining a slight bend in your elbows and keeping them close to your body. Avoid crossing your arms across your body.\\n    *   **Head Position:** Keep your head aligned with your body, looking ahead to maintain proper posture and avoid unnecessary strain.\\n    *   **Breathing:** Utilize your full lung capacity by breathing deeply into your abdomen. Practice breathing exercises before running to promote relaxation and maximize lung capacity.\\n    *   **Footwear:** Get professionally fitted for running shoes at a specialty store to ensure they match your running style and foot type.\\n    *   **Strengthening:** Strengthen your core and hip muscles to maintain good posture and improve running efficiency.\""
      ]
     },
     "execution_count": 37,
     "metadata": {},
     "output_type": "execute_result"
    }
   ],
   "source": [
    "await call_agent_async(f\"{text}\", runner_main)"
   ]
  }
 ],
 "metadata": {
  "kernelspec": {
   "display_name": "base",
   "language": "python",
   "name": "python3"
  },
  "language_info": {
   "codemirror_mode": {
    "name": "ipython",
    "version": 3
   },
   "file_extension": ".py",
   "mimetype": "text/x-python",
   "name": "python",
   "nbconvert_exporter": "python",
   "pygments_lexer": "ipython3",
   "version": "3.11.5"
  }
 },
 "nbformat": 4,
 "nbformat_minor": 5
}
