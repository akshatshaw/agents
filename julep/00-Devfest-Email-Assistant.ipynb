{
 "cells": [
  {
   "cell_type": "code",
   "execution_count": 1,
   "metadata": {},
   "outputs": [],
   "source": [
    "import uuid\n",
    "\n",
    "AGENT_UUID = uuid.uuid4()\n",
    "TASK_UUID = uuid.uuid4()"
   ]
  },
  {
   "cell_type": "code",
   "execution_count": 2,
   "metadata": {},
   "outputs": [],
   "source": [
    "from julep import Julep\n",
    "import os\n",
    "import yaml \n",
    "import time\n",
    "from dotenv import load_dotenv\n",
    "\n",
    "load_dotenv()\n",
    "\n",
    "client = Julep(\n",
    "    api_key=os.getenv('JULEP_API_KEY'),\n",
    "    environment=os.getenv('JULEP_ENVIRONMENT')\n",
    ")"
   ]
  },
  {
   "cell_type": "code",
   "execution_count": 3,
   "metadata": {},
   "outputs": [],
   "source": [
    "agent = client.agents.create_or_update(\n",
    "    agent_id=AGENT_UUID,\n",
    "    name=\"Julep Email\",\n",
    "    about=(\n",
    "        \"You are an agent that handles emails for julep users.\"\n",
    "        + \" Julep is a platform for creating kick-ass AI agents.\"\n",
    "    ),\n",
    "    model=\"claude-3.5-sonnet\",\n",
    ")"
   ]
  },
  {
   "cell_type": "markdown",
   "metadata": {},
   "source": [
    "### Defining a Task\n",
    "\n",
    "Tasks in Julep are Github-Actions-style workflows that define long-running, multi-step actions.\n",
    "\n",
    "You can use them to conduct complex actions by defining them step-by-step.\n",
    "\n",
    "To learn more about tasks, please refer to the `Tasks` section in [Julep Concepts](https://docs.julep.ai/docs/concepts/tasks)."
   ]
  },
  {
   "cell_type": "code",
   "execution_count": 14,
   "metadata": {},
   "outputs": [],
   "source": [
    "import yaml\n",
    "\n",
    "MAILGUN_PASSWORD = os.environ['MAILGUN_PASSWORD']\n",
    "\n",
    "task_def = yaml.safe_load(f\"\"\"\n",
    "# yaml-language-server: $schema=https://raw.githubusercontent.com/julep-ai/julep/refs/heads/dev/schemas/create_task_request.json\n",
    "name: Julep Email Assistant\n",
    "description: A Julep agent that can send emails and search the documentation.\n",
    "\n",
    "########################################################\n",
    "####################### INPUT SCHEMA ###################\n",
    "########################################################\n",
    "input_schema:\n",
    "  type: object\n",
    "  properties:\n",
    "    from:\n",
    "      type: string\n",
    "    to:\n",
    "      type: string\n",
    "    subject:\n",
    "      type: string\n",
    "    body:\n",
    "      type: string\n",
    "\n",
    "                          \n",
    "########################################################\n",
    "####################### TOOLS ##########################\n",
    "########################################################\n",
    "\n",
    "# Define the tools that the task will use in this workflow\n",
    "tools:\n",
    "- name: send_email\n",
    "  type: integration\n",
    "  integration:\n",
    "    provider: email\n",
    "    setup:\n",
    "      host: smtp.mailgun.org\n",
    "      password: $ f'{MAILGUN_PASSWORD}'\n",
    "      port: 587\n",
    "      user: postmaster@sandbox8fb6fbc34368497b877d285ae92db89e.mailgun.org\n",
    "\n",
    "- name: search_docs\n",
    "  type: system\n",
    "  system:\n",
    "    resource: agent\n",
    "    subresource: doc\n",
    "    operation: search\n",
    "  \n",
    "########################################################\n",
    "####################### MAIN WORKFLOW ##################\n",
    "########################################################\n",
    "\n",
    "main:\n",
    "# Step 0: Prompt the user for the email details\n",
    "- prompt: |-\n",
    "    $ f'''You are {{ agent.name }}. {{ agent.about }}\n",
    "\n",
    "    A user with email address {{ _.from }} has sent the following inquiry:\n",
    "    ------\n",
    "      Subject: {{ _.subject }}\n",
    "\n",
    "      {{ _.body }}\n",
    "    ------\n",
    "\n",
    "    Can you generate a query to search the documentation based on this email?\n",
    "    Just respond with the query as is and nothing else.'''\n",
    "\n",
    "  unwrap: true\n",
    "\n",
    "# Step 1: Search the documentation\n",
    "- tool: search_docs\n",
    "  arguments:\n",
    "    agent_id: {agent.id}\n",
    "    text: $ _\n",
    "    \n",
    "- prompt: >-\n",
    "    $ f'''You are {{ agent.name }}. {{ agent.about }}\n",
    "\n",
    "    A user with email address {{ steps[0].input.from }} has sent the following inquiry:\n",
    "    ------\n",
    "      Subject: {{ steps[0].input.subject }}\n",
    "\n",
    "      {{ steps[0].input.body }}\n",
    "    ------\n",
    "\n",
    "    Here are some possibly relevant snippets from the julep documentation:\n",
    "    {{ '\\\\n'.join([snippet.content for doc in _.docs for snippet in doc.snippets]) }}\n",
    "    \n",
    "    ========\n",
    "\n",
    "    Based on the above info, craft an email body to respond with as a json object.\n",
    "    The json object must have `subject` and `body` fields.'''\n",
    "  response_format:\n",
    "    type: json_object\n",
    "    \n",
    "  unwrap: true\n",
    "\n",
    "# Step 3: Extract the email\n",
    "- evaluate:\n",
    "    subject: $ extract_json(_)['subject']\n",
    "    body: $ extract_json(_)['body']\n",
    "\n",
    "# Step 4: Send the email\n",
    "- tool: send_email\n",
    "  arguments:\n",
    "    body: $ _.body\n",
    "    from: postmaster@sandbox8fb6fbc34368497b877d285ae92db89e.mailgun.org\n",
    "    subject: $  _.subject\n",
    "    to: $ steps[0].input['from']\n",
    "\"\"\")"
   ]
  },
  {
   "cell_type": "markdown",
   "metadata": {},
   "source": [
    "<span style=\"color:olive;\">Notes:</span>\n",
    "- The `unwrap: True` in the prompt step is used to unwrap the output of the prompt step (to unwrap the `choices[0].message.content` from the output of the model).\n",
    "- The `$` sign is used to differentiate between a Python expression and a string.\n",
    "- The `_` refers to the output of the previous step.\n",
    "- The `steps[index].input` refers to the input of the step at `index`.\n",
    "- The `steps[index].output` refers to the output of the step at `index`."
   ]
  },
  {
   "cell_type": "code",
   "execution_count": 15,
   "metadata": {},
   "outputs": [],
   "source": [
    "task = client.tasks.create_or_update(\n",
    "    agent_id=AGENT_UUID,\n",
    "    task_id=TASK_UUID,\n",
    "    **task_def,\n",
    ")"
   ]
  },
  {
   "cell_type": "markdown",
   "metadata": {},
   "source": [
    "### Creating an Execution\n",
    "\n",
    "An execution is a single run of a task. It is a way to run a task with a specific set of inputs.\n",
    "\n",
    "To learn more about executions, please refer to the `Executions` section in [Julep Concepts](https://docs.julep.ai/docs/concepts/execution)."
   ]
  },
  {
   "cell_type": "code",
   "execution_count": 16,
   "metadata": {},
   "outputs": [],
   "source": [
    "execution = client.executions.create(\n",
    "    task_id=task.id,\n",
    "    input={\"from\": \"postmaster@sandbox8fb6fbc34368497b877d285ae92db89e.mailgun.org\", \"to\": \"akshat_s1@mt.iitr.ac.in\", \"subject\": \"what's up\", \"body\": \"sup\"},\n",
    ")"
   ]
  },
  {
   "cell_type": "code",
   "execution_count": 17,
   "metadata": {},
   "outputs": [
    {
     "data": {
      "text/plain": [
       "Execution(id='067fc14a-fb21-7882-8000-4c91726ff0c2', created_at=datetime.datetime(2025, 4, 13, 19, 46, 55, 699894, tzinfo=datetime.timezone.utc), input={'to': 'akshat_s1@mt.iitr.ac.in', 'body': 'sup', 'from': 'postmaster@sandbox8fb6fbc34368497b877d285ae92db89e.mailgun.org', 'subject': \"what's up\"}, status='queued', task_id='cefda6a3-52a0-4b80-894f-3a75e361faa2', updated_at=datetime.datetime(2025, 4, 13, 19, 46, 55, 699894, tzinfo=datetime.timezone.utc), error=None, metadata={}, output={}, transition_count=0)"
      ]
     },
     "execution_count": 17,
     "metadata": {},
     "output_type": "execute_result"
    }
   ],
   "source": [
    "client.executions.get(execution.id)"
   ]
  },
  {
   "cell_type": "markdown",
   "metadata": {},
   "source": [
    "### Checking execution details and output\n",
    "\n",
    "There are multiple ways to get the execution details and the output:\n",
    "\n",
    "1. **Get Execution Details**: This method retrieves the details of the execution, including the output of the last transition that took place.\n",
    "\n",
    "2. **List Transitions**: This method lists all the task steps that have been executed up to this point in time, so the output of a successful execution will be the output of the last transition (first in the transition list as it is in reverse chronological order), which should have a type of `finish`.\n",
    "\n",
    "\n",
    "<span style=\"color:olive;\">Note: You need to wait for a few seconds for the execution to complete before you can get the final output, so feel free to run the following cells multiple times until you get the final output.</span>\n"
   ]
  },
  {
   "cell_type": "code",
   "execution_count": 18,
   "metadata": {},
   "outputs": [
    {
     "name": "stdout",
     "output_type": "stream",
     "text": [
      "Type:  init\n",
      "output:  {'to': 'akshat_s1@mt.iitr.ac.in', 'body': 'sup', 'from': 'postmaster@sandbox8fb6fbc34368497b877d285ae92db89e.mailgun.org', 'subject': \"what's up\"}\n",
      "----------------------------------------------------------------------------------------------------\n",
      "Type:  error\n",
      "output:  EvaluateError: f-string: expecting '=', or '!', or ':', or '}' (<unknown>, line 3)\n",
      "----------------------------------------------------------------------------------------------------\n"
     ]
    }
   ],
   "source": [
    "execution_transitions = client.executions.transitions.list(\n",
    "    execution_id=execution.id).items\n",
    "\n",
    "for transition in reversed(execution_transitions):\n",
    "    print(\"Type: \", transition.type)\n",
    "    print(\"output: \", transition.output)\n",
    "    print(\"-\" * 100)"
   ]
  },
  {
   "cell_type": "code",
   "execution_count": null,
   "metadata": {},
   "outputs": [],
   "source": []
  }
 ],
 "metadata": {
  "kernelspec": {
   "display_name": "base",
   "language": "python",
   "name": "python3"
  },
  "language_info": {
   "codemirror_mode": {
    "name": "ipython",
    "version": 3
   },
   "file_extension": ".py",
   "mimetype": "text/x-python",
   "name": "python",
   "nbconvert_exporter": "python",
   "pygments_lexer": "ipython3",
   "version": "3.11.5"
  }
 },
 "nbformat": 4,
 "nbformat_minor": 4
}
