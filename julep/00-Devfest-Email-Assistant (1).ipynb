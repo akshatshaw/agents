{
 "cells": [
  {
   "cell_type": "code",
   "execution_count": 17,
   "metadata": {},
   "outputs": [],
   "source": [
    "import uuid\n",
    "\n",
    "AGENT_UUID = uuid.uuid4()\n",
    "TASK_UUID = uuid.uuid4()"
   ]
  },
  {
   "cell_type": "markdown",
   "metadata": {},
   "source": [
    "### Creating Julep Client with the API Key\n",
    "\n",
    "Get you API key from [here](https://dashboard.julep.ai/)"
   ]
  },
  {
   "cell_type": "code",
   "execution_count": 18,
   "metadata": {},
   "outputs": [],
   "source": [
    "from julep import Client\n",
    "import os\n",
    "from dotenv import load_dotenv\n",
    "\n",
    "load_dotenv()\n",
    "\n",
    "JULEP_API_KEY = os.environ[\"JULEP_API_KEY\"]\n",
    "\n",
    "# Create a Julep client\n",
    "client = Client(api_key=JULEP_API_KEY, environment=\"production\")"
   ]
  },
  {
   "cell_type": "code",
   "execution_count": 28,
   "metadata": {},
   "outputs": [],
   "source": [
    "agent = client.agents.create_or_update(\n",
    "    agent_id=AGENT_UUID,\n",
    "    name=\"Julep Email Assistant\",\n",
    "    about=(\n",
    "        \"You are an agent that handles emails for julep users.\"\n",
    "        + \" Julep is a platform for creating kick-ass AI agents.\"\n",
    "    ),\n",
    "    model=\"gpt-4o\",\n",
    ")"
   ]
  },
  {
   "cell_type": "code",
   "execution_count": 29,
   "metadata": {},
   "outputs": [],
   "source": [
    "import yaml\n",
    "\n",
    "MAILGUN_PASSWORD = os.environ['MAILGUN_PASSWORD']\n",
    "\n",
    "task_def = yaml.safe_load(f\"\"\"\n",
    "# yaml-language-server: $schema=https://raw.githubusercontent.com/julep-ai/julep/refs/heads/dev/schemas/create_task_request.json\n",
    "name: Julep Email Assistant\n",
    "description: A Julep agent that can send emails and search the documentation.\n",
    "\n",
    "########################################################\n",
    "####################### INPUT SCHEMA ###################\n",
    "########################################################\n",
    "input_schema:\n",
    "  type: object\n",
    "  properties:\n",
    "    from:\n",
    "      type: string\n",
    "    to:\n",
    "      type: string\n",
    "    subject:\n",
    "      type: string\n",
    "    body:\n",
    "      type: string\n",
    "\n",
    "                          \n",
    "########################################################\n",
    "####################### TOOLS ##########################\n",
    "########################################################\n",
    "\n",
    "# Define the tools that the task will use in this workflow\n",
    "tools:\n",
    "- name: send_email\n",
    "  type: integration\n",
    "  integration:\n",
    "    provider: email\n",
    "    setup:\n",
    "      host: smtp.mailgun.org\n",
    "      password: {MAILGUN_PASSWORD}\n",
    "      port: 587\n",
    "      user: postmaster@sandbox8fb6fbc34368497b877d285ae92db89e.mailgun.org\n",
    "\n",
    "- name: search_docs\n",
    "  type: system\n",
    "  system:\n",
    "    resource: agent\n",
    "    subresource: doc\n",
    "    operation: search\n",
    "  \n",
    "########################################################\n",
    "####################### MAIN WORKFLOW ##################\n",
    "########################################################\n",
    "\n",
    "main:\n",
    "- prompt: |-\n",
    "    $ f'''You are {{ agent.name }}. {{ agent.about }}\n",
    "\n",
    "    you have to email to email address {{ _['to'] }} :\n",
    "    with the following body and subject\n",
    "    ------\n",
    "      Subject: {{ _.subject }}\n",
    "\n",
    "      {{ _.body }}\n",
    "    ------\n",
    "\n",
    "    Based on the above info, craft an email body to respond with as a json object.\n",
    "    The json object must have `subject` and `body` fields.'''\n",
    "  response_format:\n",
    "    type: json_object\n",
    "\n",
    "  unwrap: true\n",
    "\n",
    "\n",
    "# Step 3: Extract the email\n",
    "- evaluate:\n",
    "    subject: $ extract_json(_)['subject']\n",
    "    body: $ extract_json(_)['body']\n",
    "\n",
    "# Step 4: Send the email\n",
    "- tool: send_email\n",
    "  arguments:\n",
    "    body: $ _.body\n",
    "    from: postmaster@sandbox8fb6fbc34368497b877d285ae92db89e.mailgun.org\n",
    "    subject: $  _.subject\n",
    "    to: $ steps[0].input['to']\n",
    "\"\"\")"
   ]
  },
  {
   "cell_type": "code",
   "execution_count": 30,
   "metadata": {},
   "outputs": [],
   "source": [
    "task = client.tasks.create_or_update(\n",
    "    agent_id=AGENT_UUID,\n",
    "    task_id=TASK_UUID,\n",
    "    **task_def,\n",
    ")"
   ]
  },
  {
   "cell_type": "code",
   "execution_count": 31,
   "metadata": {},
   "outputs": [],
   "source": [
    "execution = client.executions.create(\n",
    "    task_id=task.id,\n",
    "    input={\"from\": \"postmaster@sandbox8fb6fbc34368497b877d285ae92db89e.mailgun.org\", \"to\": \"akshaw.ak4@gmail.com\", \"subject\": \"what's up\", \"body\": \"sup\"},\n",
    ")"
   ]
  },
  {
   "cell_type": "code",
   "execution_count": 32,
   "metadata": {},
   "outputs": [
    {
     "data": {
      "text/plain": [
       "Execution(id='0680170f-d2b2-78d5-8000-846f9ea05670', created_at=datetime.datetime(2025, 4, 17, 21, 22, 5, 173540, tzinfo=datetime.timezone.utc), input={'to': 'akshaw.ak4@gmail.com', 'body': 'sup', 'from': 'postmaster@sandbox8fb6fbc34368497b877d285ae92db89e.mailgun.org', 'subject': \"what's up\"}, status='starting', task_id='5aceaf4d-bda9-4c11-adb7-c0b10b9d0b5b', updated_at=datetime.datetime(2025, 4, 17, 21, 22, 5, 434078, tzinfo=datetime.timezone.utc), error=None, metadata={}, output={'to': 'akshaw.ak4@gmail.com', 'body': 'sup', 'from': 'postmaster@sandbox8fb6fbc34368497b877d285ae92db89e.mailgun.org', 'subject': \"what's up\"}, transition_count=1)"
      ]
     },
     "execution_count": 32,
     "metadata": {},
     "output_type": "execute_result"
    }
   ],
   "source": [
    "client.executions.get(execution.id)"
   ]
  },
  {
   "cell_type": "code",
   "execution_count": 34,
   "metadata": {},
   "outputs": [
    {
     "name": "stdout",
     "output_type": "stream",
     "text": [
      "Execution status:  running\n",
      "--------------------------------------------------\n"
     ]
    },
    {
     "ename": "KeyboardInterrupt",
     "evalue": "",
     "output_type": "error",
     "traceback": [
      "\u001b[1;31m---------------------------------------------------------------------------\u001b[0m",
      "\u001b[1;31mKeyboardInterrupt\u001b[0m                         Traceback (most recent call last)",
      "Cell \u001b[1;32mIn[34], line 5\u001b[0m\n\u001b[0;32m      2\u001b[0m execution \u001b[38;5;241m=\u001b[39m client\u001b[38;5;241m.\u001b[39mexecutions\u001b[38;5;241m.\u001b[39mget(execution\u001b[38;5;241m.\u001b[39mid)\n\u001b[0;32m      4\u001b[0m \u001b[38;5;28;01mwhile\u001b[39;00m execution\u001b[38;5;241m.\u001b[39mstatus \u001b[38;5;241m!=\u001b[39m \u001b[38;5;124m\"\u001b[39m\u001b[38;5;124msucceeded\u001b[39m\u001b[38;5;124m\"\u001b[39m:\n\u001b[1;32m----> 5\u001b[0m     time\u001b[38;5;241m.\u001b[39msleep(\u001b[38;5;241m5\u001b[39m)\n\u001b[0;32m      6\u001b[0m     execution \u001b[38;5;241m=\u001b[39m client\u001b[38;5;241m.\u001b[39mexecutions\u001b[38;5;241m.\u001b[39mget(execution\u001b[38;5;241m.\u001b[39mid)\n\u001b[0;32m      7\u001b[0m     \u001b[38;5;28mprint\u001b[39m(\u001b[38;5;124m\"\u001b[39m\u001b[38;5;124mExecution status: \u001b[39m\u001b[38;5;124m\"\u001b[39m, execution\u001b[38;5;241m.\u001b[39mstatus)\n",
      "\u001b[1;31mKeyboardInterrupt\u001b[0m: "
     ]
    }
   ],
   "source": [
    "import time\n",
    "execution = client.executions.get(execution.id)\n",
    "\n",
    "while execution.status != \"succeeded\":\n",
    "    time.sleep(5)\n",
    "    execution = client.executions.get(execution.id)\n",
    "    print(\"Execution status: \", execution.status)\n",
    "    print(\"-\"*50)"
   ]
  },
  {
   "cell_type": "code",
   "execution_count": 33,
   "metadata": {},
   "outputs": [
    {
     "name": "stdout",
     "output_type": "stream",
     "text": [
      "Type:  init\n",
      "output:  {'to': 'akshaw.ak4@gmail.com', 'body': 'sup', 'from': 'postmaster@sandbox8fb6fbc34368497b877d285ae92db89e.mailgun.org', 'subject': \"what's up\"}\n",
      "----------------------------------------------------------------------------------------------------\n",
      "Type:  step\n",
      "output:  ```json\n",
      "{\n",
      "  \"subject\": \"what's up\",\n",
      "  \"body\": \"sup\"\n",
      "}\n",
      "```\n",
      "----------------------------------------------------------------------------------------------------\n",
      "Type:  step\n",
      "output:  {'body': 'sup', 'subject': \"what's up\"}\n",
      "----------------------------------------------------------------------------------------------------\n"
     ]
    }
   ],
   "source": [
    "execution_transitions = client.executions.transitions.list(\n",
    "    execution_id=execution.id).items\n",
    "\n",
    "for transition in reversed(execution_transitions):\n",
    "    print(\"Type: \", transition.type)\n",
    "    print(\"output: \", transition.output)\n",
    "    print(\"-\" * 100)"
   ]
  },
  {
   "cell_type": "code",
   "execution_count": null,
   "metadata": {},
   "outputs": [],
   "source": []
  }
 ],
 "metadata": {
  "kernelspec": {
   "display_name": "base",
   "language": "python",
   "name": "python3"
  },
  "language_info": {
   "codemirror_mode": {
    "name": "ipython",
    "version": 3
   },
   "file_extension": ".py",
   "mimetype": "text/x-python",
   "name": "python",
   "nbconvert_exporter": "python",
   "pygments_lexer": "ipython3",
   "version": "3.11.5"
  }
 },
 "nbformat": 4,
 "nbformat_minor": 4
}
